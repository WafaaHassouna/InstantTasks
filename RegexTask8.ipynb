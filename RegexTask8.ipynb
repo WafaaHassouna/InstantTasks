{
 "cells": [
  {
   "cell_type": "code",
   "execution_count": 33,
   "id": "96efca7f",
   "metadata": {},
   "outputs": [],
   "source": [
    "import re\n",
    "\n",
    "regex = r'\\b[A-Za-z0-9._%+-]+@[A-Za-z0-9.-]+\\.[A-Z|a-z]{2,7}\\b'\n",
    "phone = r'0\\d{10}'\n",
    "name = r'[A-Z][a-z]+\\s[A-Z][a-z]+'"
   ]
  },
  {
   "cell_type": "code",
   "execution_count": 34,
   "id": "a1b093a1",
   "metadata": {},
   "outputs": [
    {
     "name": "stdout",
     "output_type": "stream",
     "text": [
      "Enter file name: \n"
     ]
    }
   ],
   "source": [
    "file_name = input('Enter file name: ')\n",
    "if len(file_name) < 1 : file_name = 'DataOfTask8.txt'\n",
    "                                                      \n",
    "file_handle = open(file_name)\n",
    "names = []\n",
    "numbers = []\n",
    "mails = []\n",
    "\n",
    "for line in file_handle:\n",
    "    email = re.search(regex, line)\n",
    "    mails.append(email)\n",
    "    \n",
    "    phone_no = re.search(str(phone), line)\n",
    "    numbers.append(phone_no)\n",
    "    \n",
    "    n = re.search(name, line)\n",
    "    names.append(n)"
   ]
  },
  {
   "cell_type": "code",
   "execution_count": 35,
   "id": "1cd204e2",
   "metadata": {},
   "outputs": [
    {
     "data": {
      "text/plain": [
       "[<re.Match object; span=(3, 14), match='Ahmed Hafez'>,\n",
       " <re.Match object; span=(0, 9), match='Ali Osama'>,\n",
       " <re.Match object; span=(0, 14), match='Wafaa Hassouna'>]"
      ]
     },
     "execution_count": 35,
     "metadata": {},
     "output_type": "execute_result"
    }
   ],
   "source": [
    "names"
   ]
  },
  {
   "cell_type": "code",
   "execution_count": 36,
   "id": "6c4ab904",
   "metadata": {},
   "outputs": [
    {
     "data": {
      "text/plain": [
       "[<re.Match object; span=(27, 42), match='ahmed@gmail.com'>,\n",
       " <re.Match object; span=(22, 35), match='ali@gmail.com'>,\n",
       " <re.Match object; span=(27, 42), match='wafaa@gmail.com'>]"
      ]
     },
     "execution_count": 36,
     "metadata": {},
     "output_type": "execute_result"
    }
   ],
   "source": [
    "mails"
   ]
  },
  {
   "cell_type": "code",
   "execution_count": 37,
   "id": "71d804a2",
   "metadata": {},
   "outputs": [
    {
     "data": {
      "text/plain": [
       "[<re.Match object; span=(15, 26), match='01023456789'>,\n",
       " <re.Match object; span=(10, 21), match='01243423422'>,\n",
       " <re.Match object; span=(15, 26), match='01033837863'>]"
      ]
     },
     "execution_count": 37,
     "metadata": {},
     "output_type": "execute_result"
    }
   ],
   "source": [
    "numbers"
   ]
  },
  {
   "cell_type": "code",
   "execution_count": null,
   "id": "73545f2f",
   "metadata": {},
   "outputs": [],
   "source": []
  }
 ],
 "metadata": {
  "kernelspec": {
   "display_name": "Python 3 (ipykernel)",
   "language": "python",
   "name": "python3"
  },
  "language_info": {
   "codemirror_mode": {
    "name": "ipython",
    "version": 3
   },
   "file_extension": ".py",
   "mimetype": "text/x-python",
   "name": "python",
   "nbconvert_exporter": "python",
   "pygments_lexer": "ipython3",
   "version": "3.11.3"
  }
 },
 "nbformat": 4,
 "nbformat_minor": 5
}
