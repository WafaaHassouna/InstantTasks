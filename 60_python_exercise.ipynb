{
  "cells": [
    {
      "cell_type": "markdown",
      "id": "759d04ba",
      "metadata": {
        "id": "759d04ba"
      },
      "source": [
        "**1-Write a Python program to calculate the length of a string using 2 ways"
      ]
    },
    {
      "cell_type": "code",
      "execution_count": 1,
      "id": "e434c950",
      "metadata": {
        "id": "e434c950",
        "colab": {
          "base_uri": "https://localhost:8080/"
        },
        "outputId": "aaf0420d-4b49-4eb8-b87c-569b960d98e0"
      },
      "outputs": [
        {
          "output_type": "execute_result",
          "data": {
            "text/plain": [
              "5"
            ]
          },
          "metadata": {},
          "execution_count": 1
        }
      ],
      "source": [
        "x = 'Ahmed'\n",
        "len(x)"
      ]
    },
    {
      "cell_type": "code",
      "execution_count": 3,
      "id": "7a2dfa32",
      "metadata": {
        "id": "7a2dfa32",
        "colab": {
          "base_uri": "https://localhost:8080/"
        },
        "outputId": "86d66117-732f-4825-f9b6-bd66b9860a7c"
      },
      "outputs": [
        {
          "output_type": "execute_result",
          "data": {
            "text/plain": [
              "5"
            ]
          },
          "metadata": {},
          "execution_count": 3
        }
      ],
      "source": [
        "count = 0\n",
        "for i in x:\n",
        "  count+=1\n",
        "count"
      ]
    },
    {
      "cell_type": "markdown",
      "id": "d7cc9da7",
      "metadata": {
        "id": "d7cc9da7"
      },
      "source": [
        "**2-Write a Python program to get a string made of the first 2 and last 2 characters of a given string. If the string length is less than 2, return the empty string instead (\"##Sample String : 'w3resource'\n",
        "Expected Result : 'w3ce'\n",
        "##Sample String : 'w3'\n",
        "Expected Result : 'w3w3'\n",
        "##Sample String : ' w'\n",
        "Expected Result : Empty String)"
      ]
    },
    {
      "cell_type": "code",
      "execution_count": 18,
      "id": "dafa9dd8",
      "metadata": {
        "id": "dafa9dd8",
        "colab": {
          "base_uri": "https://localhost:8080/"
        },
        "outputId": "b9a30825-07d4-48c6-b81f-29ac015ef9ba"
      },
      "outputs": [
        {
          "output_type": "stream",
          "name": "stdout",
          "text": [
            "Ahed\n",
            "Emad\n"
          ]
        }
      ],
      "source": [
        "x = [\"Ahmed\", 'Emad']\n",
        "for i in x:\n",
        "  if len(i) > 2:\n",
        "    print(i[0:2] + i[-2:])\n",
        "  else:\n",
        "    print(\" \")"
      ]
    },
    {
      "cell_type": "markdown",
      "id": "1534f956",
      "metadata": {
        "id": "1534f956"
      },
      "source": [
        "**3-Write a Python program to add 'ing' at the end of a given string (length should be at least 3). If the given string already ends with 'ing', add 'ly' instead. If the string length of the given string is less than 3, leave it unchanged. (Sample String : 'abc'\n",
        "Expected Result : 'abcing')"
      ]
    },
    {
      "cell_type": "code",
      "execution_count": 19,
      "id": "7ff8cec4",
      "metadata": {
        "id": "7ff8cec4",
        "colab": {
          "base_uri": "https://localhost:8080/"
        },
        "outputId": "44b14c08-7acd-494c-b644-c2ff3e189f26"
      },
      "outputs": [
        {
          "output_type": "stream",
          "name": "stdout",
          "text": [
            "Eat\n",
            "Eating\n"
          ]
        }
      ],
      "source": [
        "name = input()\n",
        "if len(name) < 3:\n",
        "  print(name)\n",
        "else:\n",
        "  if name[-3: ] == 'ing':\n",
        "    print(name+'ly')\n",
        "  else:\n",
        "    print(name+'ing')"
      ]
    },
    {
      "cell_type": "markdown",
      "id": "1c0a6627",
      "metadata": {
        "id": "1c0a6627"
      },
      "source": [
        "**4-Write a Python function that takes a list of words and return the longest word and the length of the longest one\n",
        "(Longest word: Exercises\n",
        "Length of the longest word: 9)"
      ]
    },
    {
      "cell_type": "code",
      "execution_count": 22,
      "id": "397341d9",
      "metadata": {
        "id": "397341d9",
        "colab": {
          "base_uri": "https://localhost:8080/",
          "height": 54
        },
        "outputId": "2aa4df32-21e3-4e24-b066-3cabdccb6d83"
      },
      "outputs": [
        {
          "output_type": "stream",
          "name": "stdout",
          "text": [
            "8\n"
          ]
        },
        {
          "output_type": "execute_result",
          "data": {
            "text/plain": [
              "'Mohammed'"
            ],
            "application/vnd.google.colaboratory.intrinsic+json": {
              "type": "string"
            }
          },
          "metadata": {},
          "execution_count": 22
        }
      ],
      "source": [
        "lst = ['Ahmed', 'Mohammed', 'Wael']\n",
        "longest_name = max(lst, key=len)\n",
        "print(len(longest_name))\n",
        "longest_name"
      ]
    },
    {
      "cell_type": "markdown",
      "id": "53a03a6a",
      "metadata": {
        "id": "53a03a6a"
      },
      "source": [
        "**5-Write a Python program to change a given string to a newly string where the first and last chars have been exchanged using 2 ways (Sample String:abca  Expected Result:ebce)"
      ]
    },
    {
      "cell_type": "code",
      "execution_count": 28,
      "id": "fd327d2a",
      "metadata": {
        "id": "fd327d2a",
        "colab": {
          "base_uri": "https://localhost:8080/"
        },
        "outputId": "e9dbcb59-edc3-452e-bb71-49a82789721f"
      },
      "outputs": [
        {
          "output_type": "stream",
          "name": "stdout",
          "text": [
            "ebce\n"
          ]
        }
      ],
      "source": [
        "s = 'abca'\n",
        "x = 'e'\n",
        "print(x+s[1:len(s)-1]+x)\n",
        ""
      ]
    },
    {
      "cell_type": "markdown",
      "id": "25f89808",
      "metadata": {
        "id": "25f89808"
      },
      "source": [
        "**6-Write a Python program to remove characters that have odd index values in a given string (Sample String:abca Expected Result:ac)"
      ]
    },
    {
      "cell_type": "code",
      "execution_count": 29,
      "id": "05959bd7",
      "metadata": {
        "id": "05959bd7",
        "colab": {
          "base_uri": "https://localhost:8080/"
        },
        "outputId": "09e6af28-c5fd-4441-b571-c0c546aaf856"
      },
      "outputs": [
        {
          "output_type": "stream",
          "name": "stdout",
          "text": [
            "Amd\n"
          ]
        }
      ],
      "source": [
        "s = 'Ahmed'\n",
        "print(s[::2])"
      ]
    },
    {
      "cell_type": "markdown",
      "id": "eb16e898",
      "metadata": {
        "id": "eb16e898"
      },
      "source": [
        "**7-Write a Python program to count the occurrences of each word in a given sentence (Sample String:amr and ahmed are frindes but amr is the tallest Expected Result:2)"
      ]
    },
    {
      "cell_type": "code",
      "execution_count": 34,
      "id": "01ce6cf5",
      "metadata": {
        "id": "01ce6cf5",
        "colab": {
          "base_uri": "https://localhost:8080/"
        },
        "outputId": "9d785f25-bee3-4cad-87d7-6e4477f6a3c1"
      },
      "outputs": [
        {
          "output_type": "execute_result",
          "data": {
            "text/plain": [
              "{('ahmed', 1),\n",
              " ('amr', 2),\n",
              " ('and', 1),\n",
              " ('are', 1),\n",
              " ('but', 1),\n",
              " ('frindes', 1),\n",
              " ('is', 1),\n",
              " ('tallest', 1),\n",
              " ('the', 1)}"
            ]
          },
          "metadata": {},
          "execution_count": 34
        }
      ],
      "source": [
        "String = 'amr and ahmed are frindes but amr is the tallest'\n",
        "l = String.split()\n",
        "s = set()\n",
        "for i in l:\n",
        "  s.add((i, String.count(i)))\n",
        "s"
      ]
    },
    {
      "cell_type": "markdown",
      "id": "4e8125f1",
      "metadata": {
        "id": "4e8125f1"
      },
      "source": [
        "**8-Write a Python script that takes input from the user and displays that input back in upper and lower cases"
      ]
    },
    {
      "cell_type": "code",
      "execution_count": 36,
      "id": "66c8f778",
      "metadata": {
        "id": "66c8f778",
        "colab": {
          "base_uri": "https://localhost:8080/",
          "height": 72
        },
        "outputId": "3b5ce737-641c-4022-d746-118e5c45e15f"
      },
      "outputs": [
        {
          "output_type": "stream",
          "name": "stdout",
          "text": [
            "Ahmed\n",
            "ahmed\n"
          ]
        },
        {
          "output_type": "execute_result",
          "data": {
            "text/plain": [
              "'AHMED'"
            ],
            "application/vnd.google.colaboratory.intrinsic+json": {
              "type": "string"
            }
          },
          "metadata": {},
          "execution_count": 36
        }
      ],
      "source": [
        "name = input()\n",
        "print(name.lower())\n",
        "name.upper()"
      ]
    },
    {
      "cell_type": "markdown",
      "id": "fcd68aa1",
      "metadata": {
        "id": "fcd68aa1"
      },
      "source": [
        "**9-Write a Python function to reverse a string if its length is a multiple of 4"
      ]
    },
    {
      "cell_type": "code",
      "execution_count": 41,
      "id": "0671a931",
      "metadata": {
        "id": "0671a931",
        "colab": {
          "base_uri": "https://localhost:8080/"
        },
        "outputId": "52de3076-af43-47cb-9987-c617c4677ab7"
      },
      "outputs": [
        {
          "output_type": "stream",
          "name": "stdout",
          "text": [
            "Emad\n",
            "damE\n"
          ]
        }
      ],
      "source": [
        "name = input()\n",
        "if len(name)%4 == 0:\n",
        "  print(name[::-1])"
      ]
    },
    {
      "cell_type": "markdown",
      "id": "b577c68d",
      "metadata": {
        "id": "b577c68d"
      },
      "source": [
        "**10- Write a Python program to remove a newline in Python"
      ]
    },
    {
      "cell_type": "code",
      "execution_count": 45,
      "id": "e0c6525a",
      "metadata": {
        "id": "e0c6525a",
        "colab": {
          "base_uri": "https://localhost:8080/",
          "height": 35
        },
        "outputId": "722053a8-27ec-4614-9659-db5022e110c0"
      },
      "outputs": [
        {
          "output_type": "execute_result",
          "data": {
            "text/plain": [
              "' I love English Ahmed is clever '"
            ],
            "application/vnd.google.colaboratory.intrinsic+json": {
              "type": "string"
            }
          },
          "metadata": {},
          "execution_count": 45
        }
      ],
      "source": [
        "sentences = ''' I love English\n",
        "Ahmed is clever\n",
        "'''\n",
        "sentences.replace('\\n', \" \")"
      ]
    },
    {
      "cell_type": "markdown",
      "id": "80db5ae0",
      "metadata": {
        "id": "80db5ae0"
      },
      "source": [
        "**11-Write a Python program to check whether a string starts with specified characters"
      ]
    },
    {
      "cell_type": "code",
      "execution_count": 46,
      "id": "0cc4e03e",
      "metadata": {
        "id": "0cc4e03e",
        "colab": {
          "base_uri": "https://localhost:8080/"
        },
        "outputId": "955e2143-de9f-472a-ee77-f4a386985530"
      },
      "outputs": [
        {
          "output_type": "stream",
          "name": "stdout",
          "text": [
            "A\n"
          ]
        }
      ],
      "source": [
        "name ='Ahmed'\n",
        "x = 'A'\n",
        "if name.startswith(x):\n",
        "  print(x)"
      ]
    },
    {
      "cell_type": "markdown",
      "id": "593a68db",
      "metadata": {
        "id": "593a68db"
      },
      "source": [
        "**12- Write a Python program to add prefix text to all of the lines in a string"
      ]
    },
    {
      "cell_type": "code",
      "execution_count": 48,
      "id": "d2e46ada",
      "metadata": {
        "id": "d2e46ada",
        "colab": {
          "base_uri": "https://localhost:8080/"
        },
        "outputId": "158ca2ba-d4b4-4825-b78b-5c968fcdba5e"
      },
      "outputs": [
        {
          "output_type": "stream",
          "name": "stdout",
          "text": [
            "Dr  Ali love English\n",
            "Dr Ahmed is clever\n"
          ]
        }
      ],
      "source": [
        "sentences = ''' Ali love English\n",
        "Ahmed is clever\n",
        "'''\n",
        "sentences = sentences.splitlines()\n",
        "for i in sentences:\n",
        "  print('Dr', i)"
      ]
    },
    {
      "cell_type": "markdown",
      "id": "86fa1543",
      "metadata": {
        "id": "86fa1543"
      },
      "source": [
        "**13-Write a Python program to print the following numbers up to 2 decimal places"
      ]
    },
    {
      "cell_type": "code",
      "execution_count": 49,
      "id": "cd4a9d89",
      "metadata": {
        "id": "cd4a9d89",
        "colab": {
          "base_uri": "https://localhost:8080/"
        },
        "outputId": "24730cdc-d258-4f72-b20b-dff9fe8f02e3"
      },
      "outputs": [
        {
          "output_type": "stream",
          "name": "stdout",
          "text": [
            "4.59\n"
          ]
        }
      ],
      "source": [
        "num = 4.5938758\n",
        "print(round(num,2))"
      ]
    },
    {
      "cell_type": "markdown",
      "id": "452c0ab0",
      "metadata": {
        "id": "452c0ab0"
      },
      "source": [
        "**14-Write a Python program to print the following numbers up to 2 decimal places with a sign"
      ]
    },
    {
      "cell_type": "code",
      "execution_count": 50,
      "id": "73e82479",
      "metadata": {
        "id": "73e82479",
        "colab": {
          "base_uri": "https://localhost:8080/"
        },
        "outputId": "c5d7ade4-2d64-4a64-998d-f58c32d7bf23"
      },
      "outputs": [
        {
          "output_type": "stream",
          "name": "stdout",
          "text": [
            "-4.59\n"
          ]
        }
      ],
      "source": [
        "num = -4.5938758\n",
        "print(round(num,2))"
      ]
    },
    {
      "cell_type": "markdown",
      "id": "32b1811a",
      "metadata": {
        "id": "32b1811a"
      },
      "source": [
        "**15-Write a Python program to display a number with a comma separator"
      ]
    },
    {
      "cell_type": "code",
      "execution_count": 51,
      "id": "f30fc0b6",
      "metadata": {
        "id": "f30fc0b6",
        "colab": {
          "base_uri": "https://localhost:8080/"
        },
        "outputId": "c81c082f-f2b7-42ef-dd60-7160159c722c"
      },
      "outputs": [
        {
          "output_type": "stream",
          "name": "stdout",
          "text": [
            "4,59\n"
          ]
        }
      ],
      "source": [
        "num = 4.5938758\n",
        "num = str(num)\n",
        "print(num[0]+','+num[2:4])"
      ]
    },
    {
      "cell_type": "markdown",
      "id": "0477f487",
      "metadata": {
        "id": "0477f487"
      },
      "source": [
        "**16-Write a Python program to reverse a string using 2 ways"
      ]
    },
    {
      "cell_type": "code",
      "execution_count": 53,
      "id": "aa8beec8",
      "metadata": {
        "id": "aa8beec8",
        "colab": {
          "base_uri": "https://localhost:8080/"
        },
        "outputId": "3516ca06-6542-4c03-9924-77741e133886"
      },
      "outputs": [
        {
          "output_type": "stream",
          "name": "stdout",
          "text": [
            "demhA\n",
            "demhA\n"
          ]
        }
      ],
      "source": [
        "name='Ahmed'\n",
        "print(name[::-1])\n",
        "print(\"\".join(reversed(name)))"
      ]
    },
    {
      "cell_type": "markdown",
      "id": "5afc3166",
      "metadata": {
        "id": "5afc3166"
      },
      "source": [
        " **17-Write a Python program to count repeated characters in a string (hint:use dictionary)"
      ]
    },
    {
      "cell_type": "code",
      "execution_count": 55,
      "id": "515a469c",
      "metadata": {
        "id": "515a469c",
        "colab": {
          "base_uri": "https://localhost:8080/"
        },
        "outputId": "8745fe0e-e323-4760-a5f5-c7999960f5a9"
      },
      "outputs": [
        {
          "output_type": "execute_result",
          "data": {
            "text/plain": [
              "{'A': 1, 'h': 1, 'm': 1, 'e': 1, 'd': 1}"
            ]
          },
          "metadata": {},
          "execution_count": 55
        }
      ],
      "source": [
        "name = 'Ahmed'\n",
        "d = dict()\n",
        "for i in name:\n",
        "  if i in d:\n",
        "    d[i] +=1\n",
        "  else:\n",
        "    d[i] =1\n",
        "d"
      ]
    },
    {
      "cell_type": "markdown",
      "id": "ae14e4e5",
      "metadata": {
        "id": "ae14e4e5"
      },
      "source": [
        "**18-Write a Python program to find the first non-repeating character in a given string"
      ]
    },
    {
      "cell_type": "code",
      "execution_count": 60,
      "id": "d73778e5",
      "metadata": {
        "id": "d73778e5",
        "colab": {
          "base_uri": "https://localhost:8080/"
        },
        "outputId": "f5fba13a-b0dd-4cef-bb5c-d6cf9791f9a6"
      },
      "outputs": [
        {
          "output_type": "stream",
          "name": "stdout",
          "text": [
            "o\n"
          ]
        }
      ],
      "source": [
        "name = 'mohammed'\n",
        "for i in name:\n",
        "  if name.count(i)==1:\n",
        "    print(i)\n",
        "    break"
      ]
    },
    {
      "cell_type": "markdown",
      "id": "3adf5669",
      "metadata": {
        "id": "3adf5669"
      },
      "source": [
        "**19-Write a Python program to remove spaces from a given string"
      ]
    },
    {
      "cell_type": "code",
      "execution_count": 61,
      "id": "b4f22602",
      "metadata": {
        "id": "b4f22602",
        "colab": {
          "base_uri": "https://localhost:8080/",
          "height": 35
        },
        "outputId": "9c8411d5-57b3-425b-c555-88a10c500194"
      },
      "outputs": [
        {
          "output_type": "execute_result",
          "data": {
            "text/plain": [
              "'MohammedSalah'"
            ],
            "application/vnd.google.colaboratory.intrinsic+json": {
              "type": "string"
            }
          },
          "metadata": {},
          "execution_count": 61
        }
      ],
      "source": [
        "name = 'Mohammed Salah'\n",
        "name.replace(\" \", \"\")"
      ]
    },
    {
      "cell_type": "markdown",
      "id": "734de60c",
      "metadata": {
        "id": "734de60c"
      },
      "source": [
        "**20-Write a Python program to count the number of non-empty substrings of a given string"
      ]
    },
    {
      "cell_type": "code",
      "execution_count": 65,
      "id": "ef3f2274",
      "metadata": {
        "id": "ef3f2274",
        "colab": {
          "base_uri": "https://localhost:8080/"
        },
        "outputId": "120758c4-6d23-47ed-d822-165a1a11b6a3"
      },
      "outputs": [
        {
          "output_type": "stream",
          "name": "stdout",
          "text": [
            "15.0\n"
          ]
        }
      ],
      "source": [
        "name = 'ahmed'\n",
        "n = len(name)\n",
        "print(n*(n+1)/2)"
      ]
    },
    {
      "cell_type": "markdown",
      "id": "509998e2",
      "metadata": {
        "id": "509998e2"
      },
      "source": [
        "**21-write a Python program to swap first and last element of any list."
      ]
    },
    {
      "cell_type": "code",
      "execution_count": 66,
      "id": "68692d7f",
      "metadata": {
        "id": "68692d7f",
        "colab": {
          "base_uri": "https://localhost:8080/"
        },
        "outputId": "85e72f39-c383-4c31-fc32-9edd1a84dec7"
      },
      "outputs": [
        {
          "output_type": "execute_result",
          "data": {
            "text/plain": [
              "[6, 3, 4, 5, 1]"
            ]
          },
          "metadata": {},
          "execution_count": 66
        }
      ],
      "source": [
        "l = [1, 3,4,5,6]\n",
        "l[0], l[-1] = l[-1], l[0]\n",
        "l"
      ]
    },
    {
      "cell_type": "markdown",
      "id": "959e0837",
      "metadata": {
        "id": "959e0837"
      },
      "source": [
        "**22-Given a list in Python and provided the positions of the elements, write a program to swap the two elements in the list. (Input : List = [23, 65, 19, 90], pos1 = 1, pos2 = 3\n",
        "Output : [19, 65, 23, 90])"
      ]
    },
    {
      "cell_type": "code",
      "execution_count": 67,
      "id": "225d8c6d",
      "metadata": {
        "id": "225d8c6d",
        "colab": {
          "base_uri": "https://localhost:8080/"
        },
        "outputId": "e14905e9-811d-42f0-8012-05dfca6dc029"
      },
      "outputs": [
        {
          "output_type": "execute_result",
          "data": {
            "text/plain": [
              "[19, 65, 23, 90]"
            ]
          },
          "metadata": {},
          "execution_count": 67
        }
      ],
      "source": [
        "List = [23, 65, 19, 90]\n",
        "List[0], List[2] = List[2], List[0]\n",
        "List"
      ]
    },
    {
      "cell_type": "markdown",
      "id": "66fc6682",
      "metadata": {
        "id": "66fc6682"
      },
      "source": [
        "**23- search for the all ways to know the length of the list"
      ]
    },
    {
      "cell_type": "code",
      "execution_count": null,
      "id": "0b91b3e1",
      "metadata": {
        "id": "0b91b3e1",
        "outputId": "277759a5-dda1-447d-e9c6-f7f9c282b0c7"
      },
      "outputs": [
        {
          "data": {
            "text/plain": [
              "5"
            ]
          },
          "execution_count": 2,
          "metadata": {},
          "output_type": "execute_result"
        }
      ],
      "source": [
        "l = [1,2,3,4,5]\n",
        "len(l)"
      ]
    },
    {
      "cell_type": "code",
      "execution_count": null,
      "id": "98d2b221",
      "metadata": {
        "id": "98d2b221",
        "outputId": "8dea676d-6881-4061-e5fc-78e87401f38a"
      },
      "outputs": [
        {
          "data": {
            "text/plain": [
              "5"
            ]
          },
          "execution_count": 3,
          "metadata": {},
          "output_type": "execute_result"
        }
      ],
      "source": [
        "count = 0\n",
        "for i in l:\n",
        "    count+=1\n",
        "count"
      ]
    },
    {
      "cell_type": "markdown",
      "id": "d3159e0b",
      "metadata": {
        "id": "d3159e0b"
      },
      "source": [
        "**24-write a Python code to find the Maximum number of list of numbers."
      ]
    },
    {
      "cell_type": "code",
      "execution_count": null,
      "id": "84481bac",
      "metadata": {
        "id": "84481bac",
        "outputId": "9fb6d69b-e0e3-4a9a-ec20-3d9c277d7cce"
      },
      "outputs": [
        {
          "data": {
            "text/plain": [
              "5"
            ]
          },
          "execution_count": 4,
          "metadata": {},
          "output_type": "execute_result"
        }
      ],
      "source": [
        "l = [1,2,3,4,5]\n",
        "max(l)"
      ]
    },
    {
      "cell_type": "markdown",
      "id": "b8b02a4d",
      "metadata": {
        "id": "b8b02a4d"
      },
      "source": [
        "**25-write a Python code to find the Minimum number of list of numbers."
      ]
    },
    {
      "cell_type": "code",
      "execution_count": null,
      "id": "21f8cbd6",
      "metadata": {
        "id": "21f8cbd6",
        "outputId": "3447fcd5-bac8-4023-c6ae-8b7c539ccd3b"
      },
      "outputs": [
        {
          "data": {
            "text/plain": [
              "1"
            ]
          },
          "execution_count": 5,
          "metadata": {},
          "output_type": "execute_result"
        }
      ],
      "source": [
        "min(l)"
      ]
    },
    {
      "cell_type": "markdown",
      "id": "96822d96",
      "metadata": {
        "id": "96822d96"
      },
      "source": [
        "**26-search for if an elem is existing in list"
      ]
    },
    {
      "cell_type": "code",
      "execution_count": null,
      "id": "51ca5c9a",
      "metadata": {
        "id": "51ca5c9a",
        "outputId": "2feab437-265b-4d79-bcb6-71921f4c3e2d"
      },
      "outputs": [
        {
          "name": "stdout",
          "output_type": "stream",
          "text": [
            "Element is exist\n"
          ]
        }
      ],
      "source": [
        "l = [1,3,6,2,5,4,8,10]\n",
        "elem = 4\n",
        "for i in l:\n",
        "    if i != elem:\n",
        "        continue\n",
        "    else:\n",
        "        print('Element is exist')\n",
        "        break"
      ]
    },
    {
      "cell_type": "markdown",
      "id": "d9557da7",
      "metadata": {
        "id": "d9557da7"
      },
      "source": [
        "**27- clear python list using different ways"
      ]
    },
    {
      "cell_type": "code",
      "execution_count": null,
      "id": "b69858a3",
      "metadata": {
        "id": "b69858a3"
      },
      "outputs": [],
      "source": [
        "l = [2,3,6,4,8,6,9]\n",
        "l.clear()"
      ]
    },
    {
      "cell_type": "code",
      "execution_count": null,
      "id": "e64afc27",
      "metadata": {
        "id": "e64afc27",
        "outputId": "6bcd98f9-c187-4898-fc63-bb2077a8343f"
      },
      "outputs": [
        {
          "data": {
            "text/plain": [
              "[]"
            ]
          },
          "execution_count": 10,
          "metadata": {},
          "output_type": "execute_result"
        }
      ],
      "source": [
        "l"
      ]
    },
    {
      "cell_type": "code",
      "execution_count": null,
      "id": "75db88ba",
      "metadata": {
        "id": "75db88ba"
      },
      "outputs": [],
      "source": [
        "# My List\n",
        "lst = [ 'a', 'b', 'c', 'd', 'd', 'e', 'd' ]\n",
        "\n",
        "del lst[:]"
      ]
    },
    {
      "cell_type": "code",
      "execution_count": null,
      "id": "9ad0f3ec",
      "metadata": {
        "id": "9ad0f3ec",
        "outputId": "9acf67a9-d3a9-4a27-8a6e-3c547beb8c70"
      },
      "outputs": [
        {
          "data": {
            "text/plain": [
              "[]"
            ]
          },
          "execution_count": 71,
          "metadata": {},
          "output_type": "execute_result"
        }
      ],
      "source": [
        "lst"
      ]
    },
    {
      "cell_type": "markdown",
      "id": "52160e88",
      "metadata": {
        "id": "52160e88"
      },
      "source": [
        "**28-remove duplicated elements from a list"
      ]
    },
    {
      "cell_type": "code",
      "execution_count": null,
      "id": "7e19136f",
      "metadata": {
        "id": "7e19136f"
      },
      "outputs": [],
      "source": [
        "lst = [ 1,3,3,4,1,6,4,8,10 ]"
      ]
    },
    {
      "cell_type": "code",
      "execution_count": null,
      "id": "0a01bc84",
      "metadata": {
        "id": "0a01bc84",
        "outputId": "b057eec3-7f2e-4dd6-d39a-e0fd29b232ad"
      },
      "outputs": [
        {
          "data": {
            "text/plain": [
              "{1, 3, 4, 6, 8, 10}"
            ]
          },
          "execution_count": 75,
          "metadata": {},
          "output_type": "execute_result"
        }
      ],
      "source": [
        "x = set(lst)\n",
        "x"
      ]
    },
    {
      "cell_type": "markdown",
      "id": "282337f7",
      "metadata": {
        "id": "282337f7"
      },
      "source": [
        "**29-Given list values and keys list, convert these values to key value pairs in form of list of dictionaries. (Input : test_list = [“Gfg”, 3, “is”, 8], key_list = [“name”, “id”]\n",
        "Output : [{‘name’: ‘Gfg’, ‘id’: 3}, {‘name’: ‘is’, ‘id’: 8}])"
      ]
    },
    {
      "cell_type": "code",
      "execution_count": null,
      "id": "4d4e2d28",
      "metadata": {
        "id": "4d4e2d28"
      },
      "outputs": [],
      "source": [
        "key_l = ['Name', 'Age']\n",
        "val = ['Ahmed', 22]\n",
        "val_1 = ['Ali', 19]\n",
        "l = []\n",
        "dic = dict()\n",
        "dic2 = dict()\n",
        "for k, v in zip(key_l, val):\n",
        "    dic[k] = v\n",
        "l.append(dic)\n",
        "for k, v in zip(key_l, val_1):\n",
        "    dic2[k] = v\n",
        "l.append(dic2)"
      ]
    },
    {
      "cell_type": "code",
      "execution_count": null,
      "id": "dab6039e",
      "metadata": {
        "id": "dab6039e",
        "outputId": "efd409bf-4eb0-4536-99b3-6438c5424f09"
      },
      "outputs": [
        {
          "data": {
            "text/plain": [
              "[{'Name': 'Ahmed', 'Age': 22}, {'Name': 'Ali', 'Age': 19}]"
            ]
          },
          "execution_count": 87,
          "metadata": {},
          "output_type": "execute_result"
        }
      ],
      "source": [
        "l"
      ]
    },
    {
      "cell_type": "markdown",
      "id": "c26b6e9f",
      "metadata": {
        "id": "c26b6e9f"
      },
      "source": [
        "**30-write a python program to count unique values inside a list using different ways"
      ]
    },
    {
      "cell_type": "code",
      "execution_count": null,
      "id": "72132667",
      "metadata": {
        "colab": {
          "base_uri": "https://localhost:8080/"
        },
        "id": "72132667",
        "outputId": "0c83bf37-0fb2-441f-8466-04f1d2c4748c"
      },
      "outputs": [
        {
          "output_type": "execute_result",
          "data": {
            "text/plain": [
              "4"
            ]
          },
          "metadata": {},
          "execution_count": 1
        }
      ],
      "source": [
        "l = [1,2,4,4,6,2,7,9,12,7]\n",
        "c = 0\n",
        "for i in l:\n",
        "    if l.count(i) == 1:\n",
        "        c+=1\n",
        "c"
      ]
    },
    {
      "cell_type": "code",
      "execution_count": null,
      "id": "d81f3f9d",
      "metadata": {
        "colab": {
          "base_uri": "https://localhost:8080/"
        },
        "id": "d81f3f9d",
        "outputId": "8341d07f-2851-4ec3-d71d-cfb37f79f2f0"
      },
      "outputs": [
        {
          "output_type": "execute_result",
          "data": {
            "text/plain": [
              "{1: 2, 2: 2, 4: 2, 6: 2, 7: 2, 9: 2, 12: 2}"
            ]
          },
          "metadata": {},
          "execution_count": 6
        }
      ],
      "source": [
        "dic = dict()\n",
        "count = 1\n",
        "for i in l:\n",
        "    if i not in dic:\n",
        "      dic[i] = count\n",
        "    else:\n",
        "      dic[i] = count + 1\n",
        "dic"
      ]
    },
    {
      "cell_type": "code",
      "execution_count": null,
      "id": "4b8bdbf9",
      "metadata": {
        "colab": {
          "base_uri": "https://localhost:8080/"
        },
        "id": "4b8bdbf9",
        "outputId": "be013129-aa2b-4cb6-8dd0-331e3d9248f7"
      },
      "outputs": [
        {
          "output_type": "execute_result",
          "data": {
            "text/plain": [
              "7"
            ]
          },
          "metadata": {},
          "execution_count": 4
        }
      ],
      "source": [
        "count"
      ]
    },
    {
      "cell_type": "markdown",
      "id": "caca5224",
      "metadata": {
        "id": "caca5224"
      },
      "source": [
        "**32-write a python program to find the Strongest Neighbour (Input: 1 2 2 3 4 5\n",
        "Output: 2 2 3 4 5)"
      ]
    },
    {
      "cell_type": "code",
      "execution_count": null,
      "id": "39fbd9b2",
      "metadata": {
        "colab": {
          "base_uri": "https://localhost:8080/"
        },
        "id": "39fbd9b2",
        "outputId": "4d14d8d1-3e3e-4e9e-d0dc-1213a1e76b5f"
      },
      "outputs": [
        {
          "output_type": "execute_result",
          "data": {
            "text/plain": [
              "[2, 2, 3, 4, 5]"
            ]
          },
          "metadata": {},
          "execution_count": 15
        }
      ],
      "source": [
        "l = [1, 2, 2, 3, 4, 5 ]\n",
        "lst = []\n",
        "for i in range(1, len(l)):\n",
        "  x = max(l[i], l[i-1])\n",
        "  lst.append(x)\n",
        "lst"
      ]
    },
    {
      "cell_type": "markdown",
      "id": "a9fa8baf",
      "metadata": {
        "id": "a9fa8baf"
      },
      "source": [
        "**33-write a Python Program to print all Possible Combinations from the three Digits (Input: [1, 2, 3]\n",
        "Output:\n",
        "1 2 3 ##\n",
        "1 3 2 ##\n",
        "2 1 3 ##\n",
        "2 3 1 ##\n",
        "3 1 2 ##\n",
        "3 2 1)"
      ]
    },
    {
      "cell_type": "code",
      "execution_count": null,
      "id": "8c520a76",
      "metadata": {
        "colab": {
          "base_uri": "https://localhost:8080/"
        },
        "id": "8c520a76",
        "outputId": "0005b2a5-d649-4c99-a74c-99f19d0776d4"
      },
      "outputs": [
        {
          "output_type": "stream",
          "name": "stdout",
          "text": [
            "1 2 3\n",
            "1 3 2\n",
            "2 1 3\n",
            "2 3 1\n",
            "3 1 2\n",
            "3 2 1\n"
          ]
        }
      ],
      "source": [
        "def combination(l):\n",
        "\tfor a in range(3):\n",
        "\t\tfor b in range(3):\n",
        "\t\t\tfor c in range(3):\n",
        "\t\t\t\tif (a!=b and b!=c and a!=c):\n",
        "\t\t\t\t\tprint(l[a], l[b], l[c])\n",
        "\n",
        "combination([1, 2, 3])"
      ]
    },
    {
      "cell_type": "markdown",
      "id": "5288bb89",
      "metadata": {
        "id": "5288bb89"
      },
      "source": [
        "**34-write a Python program to find all the Combinations in the list with the given condition (Input: test_list = [1,2,3]\n",
        "Output:\n",
        " [1], [1, 2], [1, 2, 3], [1, 3]\n",
        " [2], [2, 3], [3])"
      ]
    },
    {
      "cell_type": "code",
      "execution_count": null,
      "id": "59b89646",
      "metadata": {
        "id": "59b89646",
        "colab": {
          "base_uri": "https://localhost:8080/"
        },
        "outputId": "9c558208-d6e2-4ce8-deda-553827039644"
      },
      "outputs": [
        {
          "output_type": "stream",
          "name": "stdout",
          "text": [
            "[1]\n",
            "[2]\n",
            "[3]\n",
            "[1, 2]\n",
            "[1, 3]\n",
            "[2, 3]\n",
            "[1, 2, 3]\n"
          ]
        }
      ],
      "source": [
        "from itertools import combinations\n",
        "l = [1, 2, 3]\n",
        "for i in range(1,4):\n",
        "  elements = combinations(l, i)\n",
        "  for e in list(elements):\n",
        "    print(list(e))"
      ]
    },
    {
      "cell_type": "markdown",
      "id": "39973705",
      "metadata": {
        "id": "39973705"
      },
      "source": [
        "**35-write a Python program to get all unique combinations of two Lists (List_1 = [\"a\",\"b\"]\n",
        "List_2 = [1,2]\n",
        "Unique_combination = [[('a',1),('b',2)],[('a',2),('b',1)]] )"
      ]
    },
    {
      "cell_type": "code",
      "execution_count": null,
      "id": "8c4ba22b",
      "metadata": {
        "id": "8c4ba22b",
        "colab": {
          "base_uri": "https://localhost:8080/"
        },
        "outputId": "104ca212-7db9-4b91-950a-bd7773406a09"
      },
      "outputs": [
        {
          "output_type": "stream",
          "name": "stdout",
          "text": [
            "('a', 1)\n",
            "('a', 2)\n",
            "('b', 1)\n",
            "('b', 2)\n"
          ]
        }
      ],
      "source": [
        "List_1 = [\"a\",\"b\"]\n",
        "List_2 = [1,2]\n",
        "List_3 = List_1 + List_2\n",
        "elements = combinations(List_3, 2)\n",
        "for i in list(elements):\n",
        "  if (isinstance(i[0], str) and isinstance(i[1], int)):\n",
        "    print(i)"
      ]
    },
    {
      "cell_type": "markdown",
      "id": "25199af5",
      "metadata": {
        "id": "25199af5"
      },
      "source": [
        "**36-Remove all the occurrences of an element from a list in Python (Input : 1 1 2 3 4 5 1 2 1\n",
        "\n",
        "**Output : 2 3 4 5 2)"
      ]
    },
    {
      "cell_type": "code",
      "execution_count": null,
      "id": "6dc4c2ba",
      "metadata": {
        "id": "6dc4c2ba",
        "colab": {
          "base_uri": "https://localhost:8080/"
        },
        "outputId": "811e2c8c-fc02-4824-d2ab-6b1080c5b6e1"
      },
      "outputs": [
        {
          "output_type": "execute_result",
          "data": {
            "text/plain": [
              "[1, 2, 3, 4, 5]"
            ]
          },
          "metadata": {},
          "execution_count": 16
        }
      ],
      "source": [
        "lst = []\n",
        "l = [1, 1, 2, 3, 4, 5, 1, 2, 1]\n",
        "for i in l:\n",
        "  if i not in lst:\n",
        "    lst.append(i)\n",
        "lst"
      ]
    },
    {
      "cell_type": "markdown",
      "id": "bf1a3c93",
      "metadata": {
        "id": "bf1a3c93"
      },
      "source": [
        "**37-write a python program to Replace index elements with elements in Other List (The original list 1 is : [‘Gfg’, ‘is’, ‘best’] The original list 2 is : [0, 1, 2, 1, 0, 0, 0, 2, 1, 1, 2, 0] The lists after index elements replacements is : [‘Gfg’, ‘is’, ‘best’, ‘is’, ‘Gfg’, ‘Gfg’, ‘Gfg’, ‘best’, ‘is’, ‘is’, ‘best’, ‘Gfg’])"
      ]
    },
    {
      "cell_type": "code",
      "execution_count": null,
      "id": "fdd66a71",
      "metadata": {
        "id": "fdd66a71",
        "colab": {
          "base_uri": "https://localhost:8080/"
        },
        "outputId": "54ce47a6-3c3a-4e5e-e7cb-cbfc3a670895"
      },
      "outputs": [
        {
          "output_type": "execute_result",
          "data": {
            "text/plain": [
              "['Gfg',\n",
              " 'is',\n",
              " 'best',\n",
              " 'is',\n",
              " 'Gfg',\n",
              " 'Gfg',\n",
              " 'Gfg',\n",
              " 'best',\n",
              " 'is',\n",
              " 'is',\n",
              " 'best',\n",
              " 'Gfg']"
            ]
          },
          "metadata": {},
          "execution_count": 17
        }
      ],
      "source": [
        "l = []\n",
        "l1 =  ['Gfg', 'is', 'best']\n",
        "l2 = [0, 1, 2, 1, 0, 0, 0, 2, 1, 1, 2, 0]\n",
        "for i in l2:\n",
        "  l.append(l1[i])\n",
        "l"
      ]
    },
    {
      "cell_type": "markdown",
      "id": "af0f56e8",
      "metadata": {
        "id": "af0f56e8"
      },
      "source": [
        "**38- write python program to Retain records with N occurrences of K(Input : test_list = [(4, 5, 5, 4), (5, 4, 3)], K = 5, N = 2\n",
        "Output : [(4, 5, 5, 4)]\n",
        "Input : test_list = [(4, 5, 5, 4), (5, 4, 3)], K = 5, N = 3\n",
        "Output : [] )"
      ]
    },
    {
      "cell_type": "code",
      "execution_count": null,
      "id": "67b06671",
      "metadata": {
        "id": "67b06671",
        "colab": {
          "base_uri": "https://localhost:8080/"
        },
        "outputId": "9acbfdb5-8961-45a2-fee9-cb0bd7fcea1f"
      },
      "outputs": [
        {
          "output_type": "execute_result",
          "data": {
            "text/plain": [
              "[(4, 5, 5, 4)]"
            ]
          },
          "metadata": {},
          "execution_count": 31
        }
      ],
      "source": [
        "test_list = [(4, 5, 5, 4), (5, 4, 3)]\n",
        "K = 5\n",
        "lst = []\n",
        "N = [2, 3]\n",
        "for l in N:\n",
        "  for i in test_list:\n",
        "    if i.count(K) == l:\n",
        "      lst.append(i)\n",
        "lst"
      ]
    },
    {
      "cell_type": "markdown",
      "id": "de76f183",
      "metadata": {
        "id": "de76f183"
      },
      "source": [
        "**39-write a Python Program to Sort the list according to the column using lambda\n",
        "array = [[1, 3, 3], [2, 1, 2], [3, 2, 1]]\n",
        "Output :\n",
        "Sorted array specific to column 0, [[1, 3, 3], [2, 1, 2], [3, 2, 1]]\n",
        "Sorted array specific to column 1, [[2, 1, 2], [3, 2, 1], [1, 3, 3]]\n",
        "Sorted array specific to column 2, [[3, 2, 1], [2, 1, 2], [1, 3, 3]]"
      ]
    },
    {
      "cell_type": "code",
      "execution_count": null,
      "id": "dc883308",
      "metadata": {
        "id": "dc883308",
        "colab": {
          "base_uri": "https://localhost:8080/"
        },
        "outputId": "08f063f0-728a-45a3-d151-51443587edba"
      },
      "outputs": [
        {
          "output_type": "stream",
          "name": "stdout",
          "text": [
            "[[1, 3, 3], [2, 1, 2], [3, 2, 1]]\n",
            "[[2, 1, 2], [3, 2, 1], [1, 3, 3]]\n",
            "[[3, 2, 1], [2, 1, 2], [1, 3, 3]]\n"
          ]
        }
      ],
      "source": [
        "array = [[1, 3, 3], [2, 1, 2], [3, 2, 1]]\n",
        "for i in range(3):\n",
        "  col = sorted(array, key = lambda x:x[i])\n",
        "  print(col)"
      ]
    },
    {
      "cell_type": "markdown",
      "source": [
        "**40- write a program to Sort Python Dictionaries by Key or Value\n",
        "Input:\n",
        "{'ravi': 10, 'rajnish': 9, 'sanjeev': 15, 'yash': 2, 'suraj': 32}\n",
        "\n",
        "Output:\n",
        "{'rajnish': 9, 'ravi': 10, 'sanjeev': 15, 'suraj': 32, 'yash': 2}"
      ],
      "metadata": {
        "id": "2evvUkNzHHqG"
      },
      "id": "2evvUkNzHHqG"
    },
    {
      "cell_type": "code",
      "execution_count": null,
      "id": "a96db4a0",
      "metadata": {
        "id": "a96db4a0",
        "colab": {
          "base_uri": "https://localhost:8080/"
        },
        "outputId": "7c6b610e-d0ee-4e36-cda8-8df1915d9614"
      },
      "outputs": [
        {
          "output_type": "execute_result",
          "data": {
            "text/plain": [
              "{'rajnish': 9, 'ravi': 10, 'sanjeev': 15, 'suraj': 32, 'yash': 2}"
            ]
          },
          "metadata": {},
          "execution_count": 38
        }
      ],
      "source": [
        "d = {'ravi': 10, 'rajnish': 9, 'sanjeev': 15, 'yash': 2, 'suraj': 32}\n",
        "d2 = dict()\n",
        "l = list(d.keys())\n",
        "l.sort()\n",
        "for i in l:\n",
        "  d2[i] = d[i]\n",
        "d2"
      ]
    },
    {
      "cell_type": "markdown",
      "id": "ec63c23a",
      "metadata": {
        "id": "ec63c23a"
      },
      "source": [
        "**41-write python program to Remove keys with Values Greater than K ( Including mixed values )\n",
        "nput : test_dict = {‘Gfg’ : 3, ‘is’ : 7, ‘best’ : 10, ‘for’ : 6, ‘geeks’ : ‘CS’},\n",
        "K = 7\n",
        "Output : {‘Gfg’ : 3, ‘for’ : 6, ‘geeks’ : ‘CS’}"
      ]
    },
    {
      "cell_type": "code",
      "execution_count": null,
      "id": "e39c3a40",
      "metadata": {
        "id": "e39c3a40",
        "colab": {
          "base_uri": "https://localhost:8080/"
        },
        "outputId": "1bfc574a-6fee-4105-e436-4b256a13121d"
      },
      "outputs": [
        {
          "output_type": "execute_result",
          "data": {
            "text/plain": [
              "{'Gfg': 3, 'for': 6, 'geeks': 'CS'}"
            ]
          },
          "metadata": {},
          "execution_count": 63
        }
      ],
      "source": [
        "test_dict = {'Gfg' : 3, 'is' : 7, 'best' : 10, 'for' : 6, 'geeks' : 'CS'}\n",
        "s = 7\n",
        "output_dict = dict()\n",
        "for k, v in test_dict.items():\n",
        "  if (isinstance(v, int) and v < s) or (isinstance(v, str)):\n",
        "    output_dict[k] = v\n",
        "output_dict"
      ]
    },
    {
      "cell_type": "markdown",
      "id": "f143f0fe",
      "metadata": {
        "id": "f143f0fe"
      },
      "source": [
        "**42-Write a Python program to concatenate the following dictionaries to create a new one\n",
        "\n",
        "Sample Dictionary :\n",
        "dic1={1:10, 2:20}\n",
        "dic2={3:30, 4:40}\n",
        "dic3={5:50,6:60}\n",
        "Expected Result : {1: 10, 2: 20, 3: 30, 4: 40, 5: 50, 6: 60}"
      ]
    },
    {
      "cell_type": "code",
      "execution_count": null,
      "id": "74ffdfea",
      "metadata": {
        "id": "74ffdfea",
        "colab": {
          "base_uri": "https://localhost:8080/"
        },
        "outputId": "58612a95-3acf-426c-e923-0b2076fc8c12"
      },
      "outputs": [
        {
          "output_type": "execute_result",
          "data": {
            "text/plain": [
              "{1: 10, 2: 20, 3: 30, 4: 40, 5: 50, 6: 60}"
            ]
          },
          "metadata": {},
          "execution_count": 56
        }
      ],
      "source": [
        "dic1={1:10, 2:20}\n",
        "dic2={3:30, 4:40}\n",
        "dic3={5:50,6:60}\n",
        "dic4 = {**dic1, **dic2, **dic3}\n",
        "dic4"
      ]
    },
    {
      "cell_type": "markdown",
      "id": "fb04c93c",
      "metadata": {
        "id": "fb04c93c"
      },
      "source": [
        "**43-Write a Python program to iterate over dictionaries using for loops"
      ]
    },
    {
      "cell_type": "code",
      "execution_count": null,
      "id": "6aebc470",
      "metadata": {
        "id": "6aebc470",
        "colab": {
          "base_uri": "https://localhost:8080/"
        },
        "outputId": "d2f5e6db-241f-4e74-e6a4-66c94edf48a4"
      },
      "outputs": [
        {
          "output_type": "stream",
          "name": "stdout",
          "text": [
            "1 10\n",
            "2 20\n",
            "3 30\n",
            "4 40\n",
            "5 50\n",
            "6 60\n"
          ]
        }
      ],
      "source": [
        "dic = {1: 10, 2: 20, 3: 30, 4: 40, 5: 50, 6: 60}\n",
        "for k, v in dic.items():\n",
        "  print(k, v)"
      ]
    },
    {
      "cell_type": "markdown",
      "id": "5f491a9d",
      "metadata": {
        "id": "5f491a9d"
      },
      "source": [
        "**44- Write a Python script to merge two Python dictionaries"
      ]
    },
    {
      "cell_type": "code",
      "execution_count": null,
      "id": "b8a14028",
      "metadata": {
        "id": "b8a14028",
        "colab": {
          "base_uri": "https://localhost:8080/"
        },
        "outputId": "39b501c8-97f6-4d15-c56a-1b7c1e6e1d21"
      },
      "outputs": [
        {
          "output_type": "execute_result",
          "data": {
            "text/plain": [
              "{3: 30, 4: 40, 5: 50, 6: 60}"
            ]
          },
          "metadata": {},
          "execution_count": 64
        }
      ],
      "source": [
        "dic1={3:30, 4:40}\n",
        "dic2={5:50,6:60}\n",
        "dic3 = {**dic1, **dic2}\n",
        "dic3"
      ]
    },
    {
      "cell_type": "markdown",
      "id": "216fc72d",
      "metadata": {
        "id": "216fc72d"
      },
      "source": [
        "**45-Write a Python program to get the maximum and minimum values of a dictionary values"
      ]
    },
    {
      "cell_type": "code",
      "execution_count": null,
      "id": "d6883f5f",
      "metadata": {
        "id": "d6883f5f",
        "colab": {
          "base_uri": "https://localhost:8080/"
        },
        "outputId": "15a600d6-de8a-4ca3-c036-5f7705793e06"
      },
      "outputs": [
        {
          "output_type": "stream",
          "name": "stdout",
          "text": [
            "3000\n"
          ]
        },
        {
          "output_type": "execute_result",
          "data": {
            "text/plain": [
              "1000"
            ]
          },
          "metadata": {},
          "execution_count": 65
        }
      ],
      "source": [
        "dic = {'Salary1' : 1000, 'Salary2' : 2000, 'Salary3' : 3000}\n",
        "l = list(dic.values())\n",
        "print(max(l))\n",
        "min(l)\n"
      ]
    },
    {
      "cell_type": "markdown",
      "id": "b6a53011",
      "metadata": {
        "id": "b6a53011"
      },
      "source": [
        "**46- Write a Python program to drop empty items from a given dictionary.\n",
        "Original Dictionary:\n",
        "{'c1': 'Red', 'c2': 'Green', 'c3': None}\n",
        "New Dictionary after dropping empty items:\n",
        "{'c1': 'Red', 'c2': 'Green'}"
      ]
    },
    {
      "cell_type": "code",
      "execution_count": null,
      "id": "b5c6fecf",
      "metadata": {
        "id": "b5c6fecf",
        "colab": {
          "base_uri": "https://localhost:8080/"
        },
        "outputId": "bfeacf0a-0d1c-48ff-cb75-17a68a6716a5"
      },
      "outputs": [
        {
          "output_type": "execute_result",
          "data": {
            "text/plain": [
              "{'c1': 'Red', 'c2': 'Green'}"
            ]
          },
          "metadata": {},
          "execution_count": 67
        }
      ],
      "source": [
        "Original_Dictionary= {'c1': 'Red', 'c2': 'Green', 'c3': None}\n",
        "New_Dictionary = dict()\n",
        "for k, v in Original_Dictionary.items():\n",
        "  if v != None:\n",
        "    New_Dictionary[k] = v\n",
        "New_Dictionary"
      ]
    },
    {
      "cell_type": "markdown",
      "id": "46d718c7",
      "metadata": {
        "id": "46d718c7"
      },
      "source": [
        "**47-Write a Python program to create a tuple of numbers and print one item"
      ]
    },
    {
      "cell_type": "code",
      "execution_count": null,
      "id": "13216ff5",
      "metadata": {
        "id": "13216ff5",
        "colab": {
          "base_uri": "https://localhost:8080/"
        },
        "outputId": "120807b9-5a1f-4066-b0ad-d4131c19c9e3"
      },
      "outputs": [
        {
          "output_type": "stream",
          "name": "stdout",
          "text": [
            "1\n"
          ]
        }
      ],
      "source": [
        "t = (1,3,2,4,3,5)\n",
        "print(t[0])"
      ]
    },
    {
      "cell_type": "markdown",
      "id": "2be5b56b",
      "metadata": {
        "id": "2be5b56b"
      },
      "source": [
        "**48-Write a Python program to unpack a tuple into several variables"
      ]
    },
    {
      "cell_type": "code",
      "execution_count": null,
      "id": "595f44be",
      "metadata": {
        "id": "595f44be",
        "colab": {
          "base_uri": "https://localhost:8080/"
        },
        "outputId": "811c5aa7-b577-413a-8b42-a005318d5b48"
      },
      "outputs": [
        {
          "output_type": "stream",
          "name": "stdout",
          "text": [
            "1\n",
            "2\n"
          ]
        },
        {
          "output_type": "execute_result",
          "data": {
            "text/plain": [
              "3"
            ]
          },
          "metadata": {},
          "execution_count": 69
        }
      ],
      "source": [
        "a, b, c = (1, 2, 3)\n",
        "print(a)\n",
        "print(b)\n",
        "c"
      ]
    },
    {
      "cell_type": "markdown",
      "id": "392388a7",
      "metadata": {
        "id": "392388a7"
      },
      "source": [
        "**49-Write a Python program to add an item to a tuple"
      ]
    },
    {
      "cell_type": "code",
      "execution_count": null,
      "id": "54cc092e",
      "metadata": {
        "id": "54cc092e",
        "colab": {
          "base_uri": "https://localhost:8080/"
        },
        "outputId": "55aa8cfd-ea92-479b-fed8-1a11fab0d5c5"
      },
      "outputs": [
        {
          "output_type": "execute_result",
          "data": {
            "text/plain": [
              "(1, 2, 3, 4, 5, 6, 7)"
            ]
          },
          "metadata": {},
          "execution_count": 70
        }
      ],
      "source": [
        "t = (1,2,3,4,5,6)\n",
        "l = list(t)\n",
        "l.append(7)\n",
        "l = tuple(l)\n",
        "l"
      ]
    },
    {
      "cell_type": "markdown",
      "id": "3e8fd124",
      "metadata": {
        "id": "3e8fd124"
      },
      "source": [
        "**50-Write a Python program to convert a tuple to a string"
      ]
    },
    {
      "cell_type": "code",
      "execution_count": null,
      "id": "92a71ddc",
      "metadata": {
        "id": "92a71ddc",
        "colab": {
          "base_uri": "https://localhost:8080/",
          "height": 35
        },
        "outputId": "d0a6a756-0fdf-4fd2-8380-f6e420420574"
      },
      "outputs": [
        {
          "output_type": "execute_result",
          "data": {
            "text/plain": [
              "'(1, 2, 3, 4, 5, 6)'"
            ],
            "application/vnd.google.colaboratory.intrinsic+json": {
              "type": "string"
            }
          },
          "metadata": {},
          "execution_count": 48
        }
      ],
      "source": [
        "t = (1,2,3,4,5,6)\n",
        "t = str(t)\n",
        "t"
      ]
    },
    {
      "cell_type": "code",
      "source": [
        "t1 = (1,2,3,4,5,6)\n",
        "t = []\n",
        "for i in t1:\n",
        "  i = str(i)\n",
        "  t.append(i)\n",
        "t = tuple(t)\n",
        "t"
      ],
      "metadata": {
        "colab": {
          "base_uri": "https://localhost:8080/"
        },
        "id": "-a2u2swlkFL9",
        "outputId": "a084c40b-5f30-4a81-b128-826d7e9b8c71"
      },
      "id": "-a2u2swlkFL9",
      "execution_count": null,
      "outputs": [
        {
          "output_type": "execute_result",
          "data": {
            "text/plain": [
              "('1', '2', '3', '4', '5', '6')"
            ]
          },
          "metadata": {},
          "execution_count": 56
        }
      ]
    },
    {
      "cell_type": "markdown",
      "id": "f4f64ef4",
      "metadata": {
        "id": "f4f64ef4"
      },
      "source": [
        "**51-Write a Python program to convert a list to a tuple"
      ]
    },
    {
      "cell_type": "code",
      "execution_count": null,
      "id": "210d56d3",
      "metadata": {
        "id": "210d56d3",
        "colab": {
          "base_uri": "https://localhost:8080/"
        },
        "outputId": "39730f11-19d0-444a-9246-aa0ae6e972a1"
      },
      "outputs": [
        {
          "output_type": "execute_result",
          "data": {
            "text/plain": [
              "(1, 2, 3, 4, 5, 6)"
            ]
          },
          "metadata": {},
          "execution_count": 71
        }
      ],
      "source": [
        "l = [1,2,3,4,5,6]\n",
        "l = tuple(l)\n",
        "l"
      ]
    },
    {
      "cell_type": "markdown",
      "id": "b1e00ef7",
      "metadata": {
        "id": "b1e00ef7"
      },
      "source": [
        "**52-Write a Python program to reverse a tuple"
      ]
    },
    {
      "cell_type": "code",
      "execution_count": null,
      "id": "f45bfdc7",
      "metadata": {
        "id": "f45bfdc7",
        "colab": {
          "base_uri": "https://localhost:8080/"
        },
        "outputId": "a8c40a32-3b73-43ab-b8c5-8ac8cd6ab1c1"
      },
      "outputs": [
        {
          "output_type": "execute_result",
          "data": {
            "text/plain": [
              "(1, 2, 3, 4, 5)"
            ]
          },
          "metadata": {},
          "execution_count": 82
        }
      ],
      "source": [
        "t = (1,2,3,4,5,6)\n",
        "l=[]\n",
        "for i in range(len(t):):\n",
        "  l.append(i)\n",
        "l=tuple(l)\n",
        "l"
      ]
    },
    {
      "cell_type": "markdown",
      "id": "3cd347d1",
      "metadata": {
        "id": "3cd347d1"
      },
      "source": [
        "**53-Write a Python program to replace the last value of tuples in a list.\n",
        "Sample list: [(10, 20, 40), (40, 50, 60), (70, 80, 90)]\n",
        "Expected Output: [(10, 20, 100), (40, 50, 100), (70, 80, 100)]"
      ]
    },
    {
      "cell_type": "code",
      "execution_count": null,
      "id": "3c4a2a4c",
      "metadata": {
        "id": "3c4a2a4c",
        "colab": {
          "base_uri": "https://localhost:8080/"
        },
        "outputId": "d3d8b484-edc6-4a93-df99-9ba16e371a3e"
      },
      "outputs": [
        {
          "output_type": "stream",
          "name": "stdout",
          "text": [
            "[10, 20, 100]\n",
            "[40, 50, 100]\n",
            "[70, 80, 100]\n"
          ]
        },
        {
          "output_type": "execute_result",
          "data": {
            "text/plain": [
              "[(10, 20, 100), (40, 50, 100), (70, 80, 100)]"
            ]
          },
          "metadata": {},
          "execution_count": 12
        }
      ],
      "source": [
        "sample_list= [(10, 20, 40), (40, 50, 60), (70, 80, 90)]\n",
        "lst = []\n",
        "for i in sample_list:\n",
        "  l = list(i)\n",
        "  l[2] = 100\n",
        "  print(l)\n",
        "  t = tuple(l)\n",
        "  lst.append(t)\n",
        "\n",
        "lst"
      ]
    },
    {
      "cell_type": "markdown",
      "id": "76bb7b39",
      "metadata": {
        "id": "76bb7b39"
      },
      "source": [
        "**54-Write a Python program to convert a given string list to a tuple\n",
        "Original string: python 3.0\n",
        "<class 'str'>\n",
        "Convert the said string to a tuple:\n",
        "('p', 'y', 't', 'h', 'o', 'n', '3', '.', '0')"
      ]
    },
    {
      "cell_type": "code",
      "execution_count": null,
      "id": "51951937",
      "metadata": {
        "id": "51951937",
        "colab": {
          "base_uri": "https://localhost:8080/"
        },
        "outputId": "79a79828-b5a0-42a5-ae9c-ec293bf27d6c"
      },
      "outputs": [
        {
          "output_type": "execute_result",
          "data": {
            "text/plain": [
              "('p', 'y', 'h', 'o', 'n', '3', '.', '0')"
            ]
          },
          "metadata": {},
          "execution_count": 13
        }
      ],
      "source": [
        "lst = ['p', 'y', 'h', 'o', 'n', '3', '.', '0']\n",
        "t = tuple(lst)\n",
        "t"
      ]
    },
    {
      "cell_type": "markdown",
      "id": "5a1d5d97",
      "metadata": {
        "id": "5a1d5d97"
      },
      "source": [
        "**55-Write a Python program to calculate the average value of the numbers in a given tuple of tuples"
      ]
    },
    {
      "cell_type": "code",
      "execution_count": null,
      "id": "834e7992",
      "metadata": {
        "id": "834e7992",
        "colab": {
          "base_uri": "https://localhost:8080/"
        },
        "outputId": "7dcc2dae-b935-4f8e-ed0b-8d09f2337fdc"
      },
      "outputs": [
        {
          "output_type": "stream",
          "name": "stdout",
          "text": [
            "2.0\n",
            "5.0\n",
            "7.0\n"
          ]
        }
      ],
      "source": [
        "import numpy as np\n",
        "t = ((1,2,3),(4,5,6),(6,7,8))\n",
        "for i in t:\n",
        "  print(np.mean(i))"
      ]
    },
    {
      "cell_type": "markdown",
      "id": "51edab9c",
      "metadata": {
        "id": "51edab9c"
      },
      "source": [
        "**56-Write a Python program to add member(s) to a set."
      ]
    },
    {
      "cell_type": "code",
      "execution_count": null,
      "id": "2b65df79",
      "metadata": {
        "id": "2b65df79",
        "colab": {
          "base_uri": "https://localhost:8080/"
        },
        "outputId": "a3e24be9-8e0f-4c13-f44a-41a110020cb4"
      },
      "outputs": [
        {
          "output_type": "execute_result",
          "data": {
            "text/plain": [
              "{2, 3, 4, 5, 6, 8, 9}"
            ]
          },
          "metadata": {},
          "execution_count": 15
        }
      ],
      "source": [
        "s = {2,4,3,3,5,6,8}\n",
        "s.add(9)\n",
        "s"
      ]
    },
    {
      "cell_type": "markdown",
      "id": "965590cc",
      "metadata": {
        "id": "965590cc"
      },
      "source": [
        "**57-Write a Python program to remove an item from a set if it is present in the set."
      ]
    },
    {
      "cell_type": "code",
      "execution_count": null,
      "id": "866bab28",
      "metadata": {
        "id": "866bab28",
        "colab": {
          "base_uri": "https://localhost:8080/"
        },
        "outputId": "63b5d88c-c2b7-427a-82ef-dabfa0d93c0f"
      },
      "outputs": [
        {
          "output_type": "execute_result",
          "data": {
            "text/plain": [
              "{2, 3, 5, 6, 8}"
            ]
          },
          "metadata": {},
          "execution_count": 17
        }
      ],
      "source": [
        "s = {2,4,3,3,5,6,8}\n",
        "if 4 in s:\n",
        "  s.remove(4)\n",
        "s"
      ]
    },
    {
      "cell_type": "markdown",
      "id": "2b7cfed1",
      "metadata": {
        "id": "2b7cfed1"
      },
      "source": [
        "**58-Write a Python program to create an intersection,union,difference and symmetric difference of sets"
      ]
    },
    {
      "cell_type": "code",
      "execution_count": null,
      "id": "7f94b7fe",
      "metadata": {
        "id": "7f94b7fe",
        "colab": {
          "base_uri": "https://localhost:8080/"
        },
        "outputId": "741c2efa-9e2e-41f0-b424-ae5e1be41500"
      },
      "outputs": [
        {
          "output_type": "stream",
          "name": "stdout",
          "text": [
            "{8, 3, 4, 6}\n",
            "{1, 2, 3, 4, 5, 6, 8, 9}\n",
            "{1, 2, 5, 9}\n"
          ]
        }
      ],
      "source": [
        "s = {2,4,3,3,5,6,8}\n",
        "s2 = {1,4,3,6,9,8,4}\n",
        "print(s&s2)\n",
        "print(s|s2)\n",
        "print(s^s2)"
      ]
    },
    {
      "cell_type": "markdown",
      "id": "b94931e2",
      "metadata": {
        "id": "b94931e2"
      },
      "source": [
        "**59-Write a Python program to find the maximum and minimum values in a set"
      ]
    },
    {
      "cell_type": "code",
      "execution_count": null,
      "id": "203f9600",
      "metadata": {
        "id": "203f9600",
        "colab": {
          "base_uri": "https://localhost:8080/"
        },
        "outputId": "b33f1600-0659-4c6d-dc04-7cebbcfddefa"
      },
      "outputs": [
        {
          "output_type": "stream",
          "name": "stdout",
          "text": [
            "9\n"
          ]
        },
        {
          "output_type": "execute_result",
          "data": {
            "text/plain": [
              "1"
            ]
          },
          "metadata": {},
          "execution_count": 25
        }
      ],
      "source": [
        "s2 = {1,4,3,6,9,8,4}\n",
        "print(max(s2))\n",
        "min(s2)"
      ]
    },
    {
      "cell_type": "markdown",
      "id": "255fd554",
      "metadata": {
        "id": "255fd554"
      },
      "source": [
        "**60- Write a Python program that finds all pairs of elements in a list whose sum is equal to a given value."
      ]
    },
    {
      "cell_type": "code",
      "execution_count": null,
      "id": "c2d94e1f",
      "metadata": {
        "id": "c2d94e1f",
        "colab": {
          "base_uri": "https://localhost:8080/"
        },
        "outputId": "888e3d3d-642c-403c-a816-95ef3b588c5f"
      },
      "outputs": [
        {
          "output_type": "execute_result",
          "data": {
            "text/plain": [
              "[(1, 2), (0, 3)]"
            ]
          },
          "metadata": {},
          "execution_count": 26
        }
      ],
      "source": [
        "l = [1, 2, 0, 3, 4, 5 ]\n",
        "num = 3\n",
        "lst = []\n",
        "for i in range(1, len(l)):\n",
        "  if l[i]+ l[i-1] == num:\n",
        "    lst.append((l[i-1], l[i]))\n",
        "lst"
      ]
    },
    {
      "cell_type": "code",
      "source": [],
      "metadata": {
        "id": "X0jH_kkSVJCp"
      },
      "id": "X0jH_kkSVJCp",
      "execution_count": null,
      "outputs": []
    }
  ],
  "metadata": {
    "kernelspec": {
      "display_name": "Python 3 (ipykernel)",
      "language": "python",
      "name": "python3"
    },
    "language_info": {
      "codemirror_mode": {
        "name": "ipython",
        "version": 3
      },
      "file_extension": ".py",
      "mimetype": "text/x-python",
      "name": "python",
      "nbconvert_exporter": "python",
      "pygments_lexer": "ipython3",
      "version": "3.11.3"
    },
    "colab": {
      "provenance": []
    }
  },
  "nbformat": 4,
  "nbformat_minor": 5
}