{
  "nbformat": 4,
  "nbformat_minor": 0,
  "metadata": {
    "colab": {
      "provenance": [],
      "authorship_tag": "ABX9TyNvSm/U4V3SgmiD6S3fJlsc",
      "include_colab_link": true
    },
    "kernelspec": {
      "name": "python3",
      "display_name": "Python 3"
    },
    "language_info": {
      "name": "python"
    }
  },
  "cells": [
    {
      "cell_type": "markdown",
      "metadata": {
        "id": "view-in-github",
        "colab_type": "text"
      },
      "source": [
        "<a href=\"https://colab.research.google.com/github/WafaaHassouna/InstantTasks/blob/main/GraphImplementation.ipynb\" target=\"_parent\"><img src=\"https://colab.research.google.com/assets/colab-badge.svg\" alt=\"Open In Colab\"/></a>"
      ]
    },
    {
      "cell_type": "markdown",
      "source": [],
      "metadata": {
        "id": "gbk8DlKAT_Nk"
      }
    },
    {
      "cell_type": "markdown",
      "source": [
        "The keys of the dictionary used are the nodes of our graph and the corresponding values are lists with each nodes, which are connecting by an edge.\n",
        "a -> c\n",
        "b -> c\n",
        "b -> e\n",
        "c -> a\n",
        "c -> b\n",
        "c -> d\n",
        "c -> e\n",
        "d -> c\n",
        "e -> c\n",
        "e -> b"
      ],
      "metadata": {
        "id": "nymfXEHrT_TN"
      }
    },
    {
      "cell_type": "markdown",
      "source": [
        "graph = { \"a\" : [\"c\"],\n",
        "          \"b\" : [\"c\", \"e\"],\n",
        "          \"c\" : [\"a\", \"b\", \"d\", \"e\"],\n",
        "          \"d\" : [\"c\"],\n",
        "          \"e\" : [\"c\", \"b\"],\n",
        "          \"f\" : []\n",
        "        }"
      ],
      "metadata": {
        "id": "e5HGHkpxUXTS"
      }
    },
    {
      "cell_type": "code",
      "source": [
        "from collections import defaultdict\n",
        "\n",
        "graph = defaultdict(list)\n",
        "def addEdge(graph,u,v):\n",
        "\tgraph[u].append(v)\n",
        "\n",
        "def generate_edges(graph):\n",
        "\tedges = []\n",
        "\tfor node in graph:\n",
        "\t\tfor neighbour in graph[node]:\n",
        "\t\t\tedges.append((node, neighbour))\n",
        "\treturn edges\n",
        "\n",
        "addEdge(graph,'a','c')\n",
        "addEdge(graph,'b','c')\n",
        "addEdge(graph,'b','e')\n",
        "addEdge(graph,'c','d')\n",
        "addEdge(graph,'c','e')\n",
        "addEdge(graph,'c','a')\n",
        "addEdge(graph,'c','b')\n",
        "addEdge(graph,'e','b')\n",
        "addEdge(graph,'d','c')\n",
        "addEdge(graph,'e','c')\n",
        "\n",
        "print(generate_edges(graph))"
      ],
      "metadata": {
        "colab": {
          "base_uri": "https://localhost:8080/"
        },
        "id": "OsjXE3ueUE4L",
        "outputId": "29bf4137-bc32-467e-a57f-69e8125d78ff"
      },
      "execution_count": 1,
      "outputs": [
        {
          "output_type": "stream",
          "name": "stdout",
          "text": [
            "[('a', 'c'), ('b', 'c'), ('b', 'e'), ('c', 'd'), ('c', 'e'), ('c', 'a'), ('c', 'b'), ('e', 'b'), ('e', 'c'), ('d', 'c')]\n"
          ]
        }
      ]
    },
    {
      "cell_type": "markdown",
      "source": [
        "To generate the path from one node to the other node using Depth First Search"
      ],
      "metadata": {
        "id": "phBcNyuXU5AM"
      }
    },
    {
      "cell_type": "code",
      "source": [
        "graph = {\n",
        "\t'a': ['c'],\n",
        "\t'b': ['d'],\n",
        "\t'c': ['e'],\n",
        "\t'd': ['a', 'd'],\n",
        "\t'e': ['b', 'c']\n",
        "}\n",
        "\n",
        "def find_path(graph, start, end, path=[]):\n",
        "\tpath = path + [start]\n",
        "\tif start == end:\n",
        "\t\treturn path\n",
        "\tfor node in graph[start]:\n",
        "\t\tif node not in path:\n",
        "\t\t\tnewpath = find_path(graph, node, end, path)\n",
        "\t\t\tif newpath:\n",
        "\t\t\t\treturn newpath\n",
        "\n",
        "print(find_path(graph, 'd', 'c'))\n"
      ],
      "metadata": {
        "colab": {
          "base_uri": "https://localhost:8080/"
        },
        "id": "7qfMET9qUvdm",
        "outputId": "a176e1c7-3958-426c-d4ee-de545dae96be"
      },
      "execution_count": 2,
      "outputs": [
        {
          "output_type": "stream",
          "name": "stdout",
          "text": [
            "['d', 'a', 'c']\n"
          ]
        }
      ]
    }
  ]
}